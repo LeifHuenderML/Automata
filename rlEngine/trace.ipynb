{
 "cells": [
  {
   "cell_type": "code",
   "execution_count": 11,
   "metadata": {},
   "outputs": [
    {
     "name": "stdout",
     "output_type": "stream",
     "text": [
      "torch.Size([1, 1, 1024, 1024])\n",
      "Done\n"
     ]
    }
   ],
   "source": [
    "import torch \n",
    "import torchvision\n",
    "from model import DQN\n",
    "\n",
    "model = DQN()\n",
    "model.load_state_dict(torch.load('model.pth'))\n",
    "example = torch.randint(low=0, high=2, size=(1024,1024), dtype=torch.float32)\n",
    "example = example.unsqueeze(0).unsqueeze(1)\n",
    "print(example.shape)\n",
    "traced_script_module = torch.jit.trace(model, example)\n",
    "traced_script_module.save(\"model.pt\")\n",
    "print('Done')\n"
   ]
  },
  {
   "cell_type": "code",
   "execution_count": null,
   "metadata": {},
   "outputs": [],
   "source": []
  }
 ],
 "metadata": {
  "kernelspec": {
   "display_name": "automata",
   "language": "python",
   "name": "python3"
  },
  "language_info": {
   "codemirror_mode": {
    "name": "ipython",
    "version": 3
   },
   "file_extension": ".py",
   "mimetype": "text/x-python",
   "name": "python",
   "nbconvert_exporter": "python",
   "pygments_lexer": "ipython3",
   "version": "3.8.19"
  }
 },
 "nbformat": 4,
 "nbformat_minor": 2
}
