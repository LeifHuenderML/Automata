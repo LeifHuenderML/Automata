{
 "cells": [
  {
   "cell_type": "code",
   "execution_count": 6,
   "metadata": {},
   "outputs": [
    {
     "name": "stdout",
     "output_type": "stream",
     "text": [
      "Loading model...\n",
      "Model loaded successfully\n",
      "Loading data...\n",
      "Data loaded successfully\n",
      "Predicting...\n",
      "(1024, 1024)\n"
     ]
    }
   ],
   "source": [
    "import pickle\n",
    "import pandas as pd\n",
    "import sys\n",
    "from model import DQN\n",
    "import torch\n",
    "\n",
    "print('Loading model...')\n",
    "model = DQN()\n",
    "model.load_state_dict(torch.load('model.pth'))\n",
    "print('Model loaded successfully')\n",
    "print('Loading data...')\n",
    "# input_filename = sys.argv[1]\n",
    "input_filename = 'state.csv'\n",
    "data = pd.read_csv(input_filename, delimiter=',', header=None)\n",
    "data = data.astype(float)\n",
    "print('Data loaded successfully')\n",
    "print('Predicting...')\n",
    "print(data.shape)\n",
    "# predictions = model(data)\n",
    "# output_filename = sys.argv[2]\n",
    "# pd.DataFrame(predictions).to_csv(output_filename)\n",
    "# print('Predictions saved to', output_filename)\n"
   ]
  },
  {
   "cell_type": "code",
   "execution_count": null,
   "metadata": {},
   "outputs": [],
   "source": []
  }
 ],
 "metadata": {
  "kernelspec": {
   "display_name": "automata",
   "language": "python",
   "name": "python3"
  },
  "language_info": {
   "codemirror_mode": {
    "name": "ipython",
    "version": 3
   },
   "file_extension": ".py",
   "mimetype": "text/x-python",
   "name": "python",
   "nbconvert_exporter": "python",
   "pygments_lexer": "ipython3",
   "version": "3.8.19"
  }
 },
 "nbformat": 4,
 "nbformat_minor": 2
}
